#Data Visualization Overview

import numpy as np
import pandas as import pd
import matplotlib.pyplot as plt


#  use % to see data visualizations inline with Jupyter Notebooks
#  % is a magic command that only works in Jupyter Notebooks


%matplotlib inline

x = np.arange(0,100)

y = x**2

######################################

#to plot x versus y, use plt.plot(x,y)

plt.ploy(x,y)

######################################

#to pass in string code as a marker, use plt.plot(x,y, '*')

plt.plot(x,y, '*')

######################################

#to pass in a color code as a marker, use plt.plot(x,y, 'red')

plt.plot(x,y, 'red')

######################################

#to pass in a color code as a dotted-line-marker, use plt.plot(x,y, 'r--')

plt.plot(x,y, 'r--')

######################################

#to edit x and y axis, use plt.xlim() & plt.ylim()

plt.xlim(0,6)
plt.ylim(0,3)

######################################

#to add title to plot, use plt.title("TITLE")

plt.plot(x,y, 'r--')
plt.xlim(0,6)
plt.ylim(0,3)
plt.title("TITLE")

######################################

#to add an x-label to plot, use plt.xlabel('X LABEL')

plt.plot(x,y, 'r--')
plt.xlim(0,6)
plt.ylim(0,3)
plt.title("TITLE")

plt.xlabel('X LABEL')

######################################

#to add an Y-label to plot, use plt.Ylabel('y LABEL')

plt.plot(x,y, 'r--')
plt.xlim(0,6)
plt.ylim(0,3)
plt.title("TITLE")

plt.xlabel('X LABEL')
plt.ylabel('Y LABEL')

######################################

#  imshow plots will be used with images of CNNs

mat = np.arange(0,100).reshape(10,10)

#  display matrix

mat

######################################

#to plot out matrix using 2D color scheme, use plt.imshow(mat)

plt.imshow(mat)

######################################

#to declare specific color map, use plt.imshow(mat, cmap='coolwarm')
#there are many gradients that can be used with cmap

plt.imshow(mat, cmap="coolwarm")

######################################

#to use a color bar, use plt.colorbar

mat = np. random.randint(0,1000,(10,10))

plt.imshow(mat)
plt.colorbar

######################################

#pandas visualization on top of matplotlib

df = pd.read_csv('salaries.csv')

df.plot(x='Salary', y='Age', kind='scatter')

######################################